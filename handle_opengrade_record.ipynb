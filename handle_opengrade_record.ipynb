{
 "cells": [
  {
   "cell_type": "code",
   "execution_count": 4,
   "metadata": {},
   "outputs": [],
   "source": [
    "#Here we read in the Contour.txt used in surveying the area\n",
    "#Read offset for northing and easting from header, then read data into an array\n",
    "import numpy as np\n",
    "from pyproj import Proj\n",
    "f = open('Contour.txt','r')\n",
    "lines = f.readlines();\n",
    "f.seek(0);\n",
    "offset = tuple(map(int, lines[5].rsplit()[0].split(',')))\n",
    "n_points = int(lines[6].rsplit()[0])\n",
    "data_in = np.transpose(np.loadtxt(f,delimiter=\",\",skiprows=7))\n",
    "f.close()"
   ]
  },
  {
   "cell_type": "code",
   "execution_count": 5,
   "metadata": {},
   "outputs": [],
   "source": [
    "#Move data out from the offset\n",
    "easting = data_in[0]+offset[0];\n",
    "northing = data_in[2]+offset[1];\n",
    "altitude = data_in[3];"
   ]
  },
  {
   "cell_type": "code",
   "execution_count": 6,
   "metadata": {},
   "outputs": [],
   "source": [
    "#Dump XYZ into a file to export into an earthworks planning tool\n",
    "data_out = np.column_stack((easting,northing,altitude))\n",
    "np.savetxt('export.xyz',data_out,delimiter=',',fmt='%10.5f')"
   ]
  },
  {
   "cell_type": "code",
   "execution_count": 7,
   "metadata": {},
   "outputs": [],
   "source": [
    "#Calculate lat/lon from northing and easting, use offset"
   ]
  },
  {
   "cell_type": "code",
   "execution_count": 16,
   "metadata": {},
   "outputs": [],
   "source": [
    "myProj = Proj(\"+proj=utm +zone=\"+str(offset[2])+\", +north +ellps=WGS84 +datum=WGS84 +units=m +no_defs\")"
   ]
  },
  {
   "cell_type": "code",
   "execution_count": 19,
   "metadata": {},
   "outputs": [],
   "source": [
    "longitude, latitude = myProj(easting, northing, inverse=True)"
   ]
  },
  {
   "cell_type": "code",
   "execution_count": 22,
   "metadata": {},
   "outputs": [],
   "source": [
    "#Create empty column for filling the not needed data like long / lat etc.\n",
    "empty_column = -1*np.ones(easting.size);"
   ]
  },
  {
   "cell_type": "code",
   "execution_count": 23,
   "metadata": {},
   "outputs": [],
   "source": [
    "#Create a data array with target as the mean altitude for testing purposes\n",
    "data_back = np.column_stack((easting-offset[0],empty_column,northing-offset[1],altitude,latitude,longitude,-np.mean(altitude)*empty_column,empty_column,empty_column))"
   ]
  },
  {
   "cell_type": "code",
   "execution_count": 25,
   "metadata": {},
   "outputs": [],
   "source": [
    "#Save to a new contour file\n",
    "g = open('Contour_edit.txt','a')\n",
    "for i in range (0,7):\n",
    "    g.write(lines[i])\n",
    "np.savetxt(g,data_back,delimiter=',',fmt='%10.10f')\n",
    "g.close()"
   ]
  },
  {
   "cell_type": "code",
   "execution_count": null,
   "metadata": {},
   "outputs": [],
   "source": []
  }
 ],
 "metadata": {
  "kernelspec": {
   "display_name": "Python 3",
   "language": "python",
   "name": "python3"
  },
  "language_info": {
   "codemirror_mode": {
    "name": "ipython",
    "version": 3
   },
   "file_extension": ".py",
   "mimetype": "text/x-python",
   "name": "python",
   "nbconvert_exporter": "python",
   "pygments_lexer": "ipython3",
   "version": "3.7.6"
  }
 },
 "nbformat": 4,
 "nbformat_minor": 4
}
